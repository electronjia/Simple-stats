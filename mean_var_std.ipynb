{
 "cells": [
  {
   "cell_type": "code",
   "execution_count": 101,
   "id": "417c15df-6024-40a4-9def-6804caaf178e",
   "metadata": {},
   "outputs": [
    {
     "name": "stdout",
     "output_type": "stream",
     "text": [
      "\n",
      "    {\n",
      "      'mean': [[3.0, 4.0, 5.0], [1.0, 4.0, 7.0], 4.0],\n",
      "      'variance': [[6.0, 6.0, 6.0], [0.6666666666666666, 0.6666666666666666, 0.6666666666666666], 6.666666666666667],\n",
      "      'standard deviation': [[2.449489742783178, 2.449489742783178, 2.449489742783178], [0.816496580927726, 0.816496580927726, 0.816496580927726], 2.581988897471611],\n",
      "      'max': [[6, 7, 8], [2, 5, 8], 8],\n",
      "      'min': [[0, 1, 2], [0, 3, 6], 0],\n",
      "      'sum': [[9, 12, 15], [3, 12, 21], 36]\n",
      "    }\n",
      "    \n"
     ]
    }
   ],
   "source": [
    "import numpy as np\n",
    "\n",
    "def calculate(list):\n",
    "    if len(list) !=  9:\n",
    "        print(\"ValueError: List must contain nine numbers.\")\n",
    "    else:\n",
    "        listNew = np.reshape(list, (3,3))\n",
    "\n",
    "    # Conducting statistics\n",
    "    objectives = [0,1, None]\n",
    "    dict = {'mean':[], 'variance':[], 'standard deviation':[], 'max':[], 'min':[], 'sum':[]}\n",
    "    \n",
    "    meanList = []\n",
    "    varianceList = []\n",
    "    stdList = []\n",
    "    maxList = []\n",
    "    minList = []\n",
    "    sumList = []\n",
    "    \n",
    "    for i in objectives:\n",
    "        \n",
    "        meanF = np.mean(listNew, axis=i)\n",
    "        meanF = meanF.tolist()\n",
    "        meanList.append(meanF)\n",
    "\n",
    "        varianceF = np.var(listNew, axis=i)\n",
    "        varianceF = varianceF.tolist()\n",
    "        varianceList.append(varianceF)\n",
    "\n",
    "        stdF = np.std(listNew, axis=i)\n",
    "        stdF = stdF.tolist()\n",
    "        stdList.append(stdF)\n",
    "\n",
    "        maxF = np.max(listNew, axis=i)\n",
    "        maxF = maxF.tolist()\n",
    "        maxList.append(maxF)\n",
    "\n",
    "        minF = np.min(listNew, axis=i)\n",
    "        minF = minF.tolist()\n",
    "        minList.append(minF)\n",
    "\n",
    "        sumF = np.sum(listNew, axis=i)\n",
    "        sumF = sumF.tolist()\n",
    "        sumList.append(sumF)\n",
    "\n",
    "    dict['mean'] = meanList\n",
    "    dict['variance'] = varianceList\n",
    "    dict['standard deviation'] = stdList\n",
    "    dict['max'] = maxList\n",
    "    dict['min'] = minList\n",
    "    dict['sum'] = sumList\n",
    "    valuesDict = iter(dict.values())\n",
    "\n",
    "    print(f'''\n",
    "    {{\n",
    "      'mean': {next(valuesDict)},\n",
    "      'variance': {next(valuesDict)},\n",
    "      'standard deviation': {next(valuesDict)},\n",
    "      'max': {next(valuesDict)},\n",
    "      'min': {next(valuesDict)},\n",
    "      'sum': {next(valuesDict)}\n",
    "    }}\n",
    "    ''')\n",
    "    \n",
    "testList = [0,1,2,3,4,5,6,7,8]\n",
    "calculate(testList)"
   ]
  }
 ],
 "metadata": {
  "kernelspec": {
   "display_name": "Python 3 (ipykernel)",
   "language": "python",
   "name": "python3"
  },
  "language_info": {
   "codemirror_mode": {
    "name": "ipython",
    "version": 3
   },
   "file_extension": ".py",
   "mimetype": "text/x-python",
   "name": "python",
   "nbconvert_exporter": "python",
   "pygments_lexer": "ipython3",
   "version": "3.10.5"
  }
 },
 "nbformat": 4,
 "nbformat_minor": 5
}
